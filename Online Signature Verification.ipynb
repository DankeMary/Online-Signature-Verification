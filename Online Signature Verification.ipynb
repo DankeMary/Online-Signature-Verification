{
 "cells": [
  {
   "cell_type": "code",
   "execution_count": 63,
   "metadata": {
    "collapsed": true
   },
   "outputs": [],
   "source": [
    "import tensorflow as tf\n",
    "import numpy as np\n",
    "import os\n",
    "import matplotlib.image as mpimg\n",
    "import cv2"
   ]
  },
  {
   "cell_type": "code",
   "execution_count": 49,
   "metadata": {
    "collapsed": true
   },
   "outputs": [],
   "source": [
    "im_shape = 350, 470, 3\n",
    "person_num = 40\n",
    "\n",
    "X = tf.placeholder(tf.float32, [None, im_shape[0], im_shape[1], im_shape[2]])\n",
    "Y = tf.placeholder(tf.float32, [None, person_num])\n",
    "keep_prob = tf.placeholder(tf.float32)\n",
    "global_step = tf.Variable(0, trainable=False, name=\"global_step\")"
   ]
  },
  {
   "cell_type": "code",
   "execution_count": 51,
   "metadata": {
    "collapsed": true
   },
   "outputs": [],
   "source": [
    "# 3x3 크기의 한칸씩 움직이는 커널을 32개 만든다.\n",
    "W1 = tf.Variable(tf.random_normal([3,3,3,32], stddev=0.01))\n",
    "L1 = tf.nn.conv2d(X, W1, strides=[1,1,1,1], padding='SAME')\n",
    "L1 = tf.nn.relu(L1)\n",
    "L1 = tf.nn.max_pool(L1, ksize=[1,2,2,1], strides=[1,2,2,1], padding='SAME')\n",
    "\n",
    "W2 = tf.Variable(tf.random_normal([3, 3, 32, 64], stddev=0.01))\n",
    "L2 = tf.nn.conv2d(L1, W2, strides=[1, 1, 1, 1], padding='SAME')\n",
    "L2 = tf.nn.relu(L2)\n",
    "L2 = tf.nn.max_pool(L2, ksize=[1, 4, 4, 1], strides=[1, 4, 4, 1], padding='SAME')\n",
    "\n",
    "L3 = tf.contrib.layers.flatten(L2)\n",
    "L3 = tf.layers.dense(L3, 512, activation=tf.nn.relu)\n",
    "L3 = tf.layers.dropout(L3, keep_prob)\n",
    "\n",
    "L4 = tf.contrib.layers.flatten(L3)\n",
    "L4 = tf.layers.dense(L4, 256, activation=tf.nn.relu)\n",
    "L4 = tf.layers.dropout(L4, keep_prob)\n",
    "\n",
    "feature_vec = L4\n",
    "\n",
    "logits_M = tf.layers.dense(L4, person_num, activation=None, trainable=False)\n",
    "cost_M = tf.reduce_mean(tf.nn.softmax_cross_entropy_with_logits(logits=logits_M, labels=Y))\n",
    "optimizer = tf.train.AdamOptimizer(0.001).minimize(cost_M)"
   ]
  },
  {
   "cell_type": "code",
   "execution_count": 59,
   "metadata": {},
   "outputs": [],
   "source": [
    "files = [f for f in os.listdir('./data/')]"
   ]
  },
  {
   "cell_type": "code",
   "execution_count": 79,
   "metadata": {
    "collapsed": true
   },
   "outputs": [],
   "source": [
    "a = cv2.imread('./data/' + files[1])"
   ]
  },
  {
   "cell_type": "code",
   "execution_count": 67,
   "metadata": {},
   "outputs": [
    {
     "data": {
      "text/plain": [
       "'cut_U10_10_0_18.png'"
      ]
     },
     "execution_count": 67,
     "metadata": {},
     "output_type": "execute_result"
    }
   ],
   "source": [
    "files[0]"
   ]
  },
  {
   "cell_type": "code",
   "execution_count": 77,
   "metadata": {
    "collapsed": true
   },
   "outputs": [],
   "source": [
    "b = np.eye(person_num)[9].reshape([1,40])\n",
    "c = np.eye(2)[1]"
   ]
  },
  {
   "cell_type": "code",
   "execution_count": 78,
   "metadata": {},
   "outputs": [
    {
     "data": {
      "text/plain": [
       "[None, 5.0170307]"
      ]
     },
     "execution_count": 78,
     "metadata": {},
     "output_type": "execute_result"
    }
   ],
   "source": [
    "init = tf.global_variables_initializer()\n",
    "sess = tf.Session()\n",
    "sess.run(init)\n",
    "\n",
    "sess.run([optimizer, cost_M], feed_dict={X: a, Y: b})"
   ]
  },
  {
   "cell_type": "code",
   "execution_count": null,
   "metadata": {
    "collapsed": true
   },
   "outputs": [],
   "source": []
  }
 ],
 "metadata": {
  "anaconda-cloud": {},
  "kernelspec": {
   "display_name": "Python [conda env:tensorflow-gpu]",
   "language": "python",
   "name": "conda-env-tensorflow-gpu-py"
  },
  "language_info": {
   "codemirror_mode": {
    "name": "ipython",
    "version": 3
   },
   "file_extension": ".py",
   "mimetype": "text/x-python",
   "name": "python",
   "nbconvert_exporter": "python",
   "pygments_lexer": "ipython3",
   "version": "3.5.3"
  }
 },
 "nbformat": 4,
 "nbformat_minor": 1
}
