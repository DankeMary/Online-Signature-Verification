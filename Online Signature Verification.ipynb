{
 "cells": [
  {
   "cell_type": "code",
   "execution_count": 1,
   "metadata": {
    "collapsed": true
   },
   "outputs": [],
   "source": [
    "import tensorflow as tf\n",
    "import numpy as np\n",
    "import os\n",
    "import matplotlib.image as mpimg\n",
    "import cv2\n",
    "from CNNsig import sigGF, sigG\n",
    "from batch_wrapper import batch_dataset"
   ]
  },
  {
   "cell_type": "code",
   "execution_count": 2,
   "metadata": {
    "collapsed": true
   },
   "outputs": [],
   "source": [
    "DATA_DIR = './data/'"
   ]
  },
  {
   "cell_type": "code",
   "execution_count": 3,
   "metadata": {
    "collapsed": true
   },
   "outputs": [],
   "source": [
    "class stroke_sample:\n",
    "    def __init__(self, img, uid, forgery, sid, elapsed_time):\n",
    "        self.img = img\n",
    "        self.uid = uid\n",
    "        self.forgery = forgery\n",
    "        self.sid = sid\n",
    "        self.elapsed_time = elapsed_time"
   ]
  },
  {
   "cell_type": "code",
   "execution_count": 4,
   "metadata": {
    "collapsed": true
   },
   "outputs": [],
   "source": [
    "def load_image_details(directory):\n",
    "    imgs=[]; uids=[]; sids=[]; is_fs=[]; ts=[];\n",
    "    \n",
    "    files = [f for f in os.listdir(directory)]\n",
    "    for f in files:\n",
    "        fs = f.split(\"_\")\n",
    "        img = cv2.imread(directory+f) # image binary data\n",
    "        uid = int(fs[1][1:]) # user id\n",
    "        is_f = 0\n",
    "        if int(fs[2]) < 21:\n",
    "            is_f = 0 # is it forgery?\n",
    "        else:\n",
    "            is_f = 1\n",
    "        sid = int(fs[3]) # stroke id\n",
    "        t = int(fs[4][:-4]) # elapsed time\n",
    "        \n",
    "        imgs.append(img); uids.append(uid-1); is_fs.append(is_f)\n",
    "        sids.append(sid); ts.append(t)\n",
    "    imgs = np.array(imgs)\n",
    "    uids = np.array(uids)\n",
    "    sids = np.array(sids)\n",
    "    is_fs = np.array(is_fs)\n",
    "    ts = np.array(np)\n",
    "    return imgs, uids, sids, is_fs, ts"
   ]
  },
  {
   "cell_type": "code",
   "execution_count": 5,
   "metadata": {
    "collapsed": true
   },
   "outputs": [],
   "source": [
    "imgs, uids, sids, is_fs, ts = load_image_details(DATA_DIR)"
   ]
  },
  {
   "cell_type": "markdown",
   "metadata": {},
   "source": [
    "Training Model Setting"
   ]
  },
  {
   "cell_type": "code",
   "execution_count": 6,
   "metadata": {},
   "outputs": [
    {
     "name": "stdout",
     "output_type": "stream",
     "text": [
      "The shape of image:  (350, 470, 3)\n",
      "The number of persons:  40\n"
     ]
    }
   ],
   "source": [
    "img_shape = imgs[0].shape\n",
    "num_person = len(np.unique(uids))\n",
    "print (\"The shape of image: \", img_shape)\n",
    "print (\"The number of persons: \", num_person)"
   ]
  },
  {
   "cell_type": "code",
   "execution_count": 37,
   "metadata": {},
   "outputs": [
    {
     "ename": "MemoryError",
     "evalue": "",
     "output_type": "error",
     "traceback": [
      "\u001b[1;31m---------------------------------------------------------------------------\u001b[0m",
      "\u001b[1;31mMemoryError\u001b[0m                               Traceback (most recent call last)",
      "\u001b[1;32m<ipython-input-37-0cdbe29c2c79>\u001b[0m in \u001b[0;36m<module>\u001b[1;34m()\u001b[0m\n\u001b[0;32m      5\u001b[0m \u001b[0midx\u001b[0m \u001b[1;33m=\u001b[0m \u001b[0mnp\u001b[0m\u001b[1;33m.\u001b[0m\u001b[0marange\u001b[0m\u001b[1;33m(\u001b[0m\u001b[0mlen\u001b[0m\u001b[1;33m(\u001b[0m\u001b[0mimgs\u001b[0m\u001b[1;33m)\u001b[0m\u001b[1;33m)\u001b[0m\u001b[1;33m\u001b[0m\u001b[0m\n\u001b[0;32m      6\u001b[0m \u001b[0mnp\u001b[0m\u001b[1;33m.\u001b[0m\u001b[0mrandom\u001b[0m\u001b[1;33m.\u001b[0m\u001b[0mshuffle\u001b[0m\u001b[1;33m(\u001b[0m\u001b[0midx\u001b[0m\u001b[1;33m)\u001b[0m\u001b[1;33m\u001b[0m\u001b[0m\n\u001b[1;32m----> 7\u001b[1;33m \u001b[0mshuffled_X\u001b[0m \u001b[1;33m=\u001b[0m \u001b[0mnp\u001b[0m\u001b[1;33m.\u001b[0m\u001b[0marray\u001b[0m\u001b[1;33m(\u001b[0m\u001b[0mimgs\u001b[0m\u001b[1;33m[\u001b[0m\u001b[0midx\u001b[0m\u001b[1;33m]\u001b[0m\u001b[1;33m)\u001b[0m\u001b[1;33m\u001b[0m\u001b[0m\n\u001b[0m\u001b[0;32m      8\u001b[0m \u001b[0mshuffled_Y_M\u001b[0m \u001b[1;33m=\u001b[0m \u001b[0mnp\u001b[0m\u001b[1;33m.\u001b[0m\u001b[0marray\u001b[0m\u001b[1;33m(\u001b[0m\u001b[0mY_uid\u001b[0m\u001b[1;33m[\u001b[0m\u001b[0midx\u001b[0m\u001b[1;33m]\u001b[0m\u001b[1;33m)\u001b[0m\u001b[1;33m\u001b[0m\u001b[0m\n\u001b[0;32m      9\u001b[0m \u001b[0mshuffled_Y_D\u001b[0m \u001b[1;33m=\u001b[0m \u001b[0mnp\u001b[0m\u001b[1;33m.\u001b[0m\u001b[0marray\u001b[0m\u001b[1;33m(\u001b[0m\u001b[0mY_isF\u001b[0m\u001b[1;33m[\u001b[0m\u001b[0midx\u001b[0m\u001b[1;33m]\u001b[0m\u001b[1;33m)\u001b[0m\u001b[1;33m\u001b[0m\u001b[0m\n",
      "\u001b[1;31mMemoryError\u001b[0m: "
     ]
    }
   ],
   "source": [
    "Y_uid = np.eye(num_person)[uids]\n",
    "Y_isF = np.eye(2)[is_fs.astype(np.uint8)]\n",
    "\n",
    "# Shuffle input and output data\n",
    "idx = np.arange(len(imgs))\n",
    "np.random.shuffle(idx)\n",
    "shuffled_X = np.array(imgs[idx])\n",
    "shuffled_Y_M = np.array(Y_uid[idx])\n",
    "shuffled_Y_D = np.array(Y_isF[idx])"
   ]
  },
  {
   "cell_type": "code",
   "execution_count": 8,
   "metadata": {
    "collapsed": true
   },
   "outputs": [],
   "source": [
    "GF_model = sigGF(img_shape, num_person)"
   ]
  },
  {
   "cell_type": "code",
   "execution_count": 9,
   "metadata": {},
   "outputs": [
    {
     "name": "stdout",
     "output_type": "stream",
     "text": [
      "batch num = 177\n"
     ]
    }
   ],
   "source": [
    "init = tf.global_variables_initializer()\n",
    "sess = tf.Session()\n",
    "sess.run(init)\n",
    "\n",
    "batch_size = 50\n",
    "total_batch = int(len(imgs) / batch_size)\n",
    "print (\"batch num = %d\" % total_batch)"
   ]
  },
  {
   "cell_type": "code",
   "execution_count": 10,
   "metadata": {
    "collapsed": true
   },
   "outputs": [],
   "source": [
    "batch_X = batch_dataset(imgs, batch_size)\n",
    "batch_Y_M = batch_dataset(Y_uid, batch_size)\n",
    "batch_Y_D = batch_dataset(Y_isF, batch_size)"
   ]
  },
  {
   "cell_type": "code",
   "execution_count": 11,
   "metadata": {},
   "outputs": [
    {
     "name": "stdout",
     "output_type": "stream",
     "text": [
      "Epoch: 0001 Avg. cost_M = 3.737 Avg. cost_D = 1.533\n",
      "Epoch: 0002 Avg. cost_M = 3.690 Avg. cost_D = 0.693\n",
      "Epoch: 0003 Avg. cost_M = 3.680 Avg. cost_D = 0.693\n",
      "Epoch: 0004 Avg. cost_M = 3.676 Avg. cost_D = 0.693\n",
      "Epoch: 0005 Avg. cost_M = 3.669 Avg. cost_D = 0.693\n",
      "Epoch: 0006 Avg. cost_M = 3.663 Avg. cost_D = 0.694\n",
      "Epoch: 0007 Avg. cost_M = 3.657 Avg. cost_D = 0.694\n",
      "Epoch: 0008 Avg. cost_M = 3.649 Avg. cost_D = 0.694\n",
      "Epoch: 0009 Avg. cost_M = 3.640 Avg. cost_D = 0.694\n",
      "Epoch: 0010 Avg. cost_M = 3.632 Avg. cost_D = 0.694\n",
      "최적화 완료!\n"
     ]
    }
   ],
   "source": [
    "for epoch in range(10):\n",
    "    total_cost_M = 0\n",
    "    total_cost_D = 0\n",
    "    \n",
    "    for i in range(total_batch):\n",
    "        batch_x = batch_X.next_batch()\n",
    "        batch_y_m = batch_Y_M.next_batch()\n",
    "        batch_y_d = batch_Y_D.next_batch()\n",
    "        _, cost_M_val,cost_D_val = GF_model.train(sess, batch_x, batch_y_m, batch_y_d)\n",
    "        total_cost_M += cost_M_val\n",
    "        total_cost_D += cost_D_val\n",
    "    print('Epoch:', '%04d' % (epoch + 1),\n",
    "          'Avg. cost_M =', '{:.3f}'.format(total_cost_M / total_batch),\n",
    "          'Avg. cost_D =', '{:.3f}'.format(total_cost_D / total_batch))\n",
    "\n",
    "print('최적화 완료!')"
   ]
  },
  {
   "cell_type": "code",
   "execution_count": 12,
   "metadata": {},
   "outputs": [
    {
     "data": {
      "text/plain": [
       "'./save/train_withF_nontrainable-11'"
      ]
     },
     "execution_count": 12,
     "metadata": {},
     "output_type": "execute_result"
    }
   ],
   "source": [
    "GF_model.saver.save(sess, \"./save/train_withF_nontrainable\",11)"
   ]
  },
  {
   "cell_type": "code",
   "execution_count": 14,
   "metadata": {},
   "outputs": [
    {
     "name": "stdout",
     "output_type": "stream",
     "text": [
      "INFO:tensorflow:Restoring parameters from ./save/train_withF_nontrainable-11\n"
     ]
    }
   ],
   "source": [
    "init = tf.global_variables_initializer()\n",
    "sess = tf.Session()\n",
    "sess.run(init)\n",
    "\n",
    "GF_model.saver.restore(sess, \"./save/train_withF_nontrainable-11\")"
   ]
  },
  {
   "cell_type": "code",
   "execution_count": 19,
   "metadata": {},
   "outputs": [
    {
     "name": "stdout",
     "output_type": "stream",
     "text": [
      "0.0\n",
      "0.58\n"
     ]
    }
   ],
   "source": [
    "acc1,acc2 = GF_model.test(sess, imgs[:100],Y_uid[:100],Y_isF[:100])\n",
    "print(acc1)\n",
    "print(acc2)"
   ]
  },
  {
   "cell_type": "code",
   "execution_count": 22,
   "metadata": {},
   "outputs": [],
   "source": [
    "encoded_X = GF_model.get_feature(sess, imgs[:100])"
   ]
  },
  {
   "cell_type": "code",
   "execution_count": 26,
   "metadata": {},
   "outputs": [],
   "source": [
    "import matplotlib.pyplot as plt\n",
    "import pandas as pd\n",
    "from mpl_toolkits.mplot3d import Axes3D\n",
    "\n",
    "from sklearn.decomposition import PCA as sklearnPCA\n",
    "from sklearn.discriminant_analysis import LinearDiscriminantAnalysis as LDA\n",
    "from sklearn.datasets.samples_generator import make_blobs\n",
    "\n",
    "from pandas.tools.plotting import parallel_coordinates\n",
    "from data_preprocessing import print_arr"
   ]
  },
  {
   "cell_type": "code",
   "execution_count": 28,
   "metadata": {},
   "outputs": [
    {
     "data": {
      "image/png": "[encoded data removed]",
      "text/plain": [
       "<matplotlib.figure.Figure at 0x251e2c1a2b0>"
      ]
     },
     "metadata": {},
     "output_type": "display_data"
    }
   ],
   "source": [
    "print_arr(imgs[1])"
   ]
  },
  {
   "cell_type": "code",
   "execution_count": 36,
   "metadata": {},
   "outputs": [
    {
     "data": {
      "text/plain": [
       "TensorShape([Dimension(None), Dimension(40)])"
      ]
     },
     "execution_count": 36,
     "metadata": {},
     "output_type": "execute_result"
    }
   ],
   "source": [
    "GF_model.Y_M.shape"
   ]
  },
  {
   "cell_type": "code",
   "execution_count": null,
   "metadata": {
    "collapsed": true
   },
   "outputs": [],
   "source": []
  }
 ],
 "metadata": {
  "anaconda-cloud": {},
  "kernelspec": {
   "display_name": "Python [conda env:tensorflow-gpu]",
   "language": "python",
   "name": "conda-env-tensorflow-gpu-py"
  },
  "language_info": {
   "codemirror_mode": {
    "name": "ipython",
    "version": 3
   },
   "file_extension": ".py",
   "mimetype": "text/x-python",
   "name": "python",
   "nbconvert_exporter": "python",
   "pygments_lexer": "ipython3",
   "version": "3.5.3"
  }
 },
 "nbformat": 4,
 "nbformat_minor": 1
}
